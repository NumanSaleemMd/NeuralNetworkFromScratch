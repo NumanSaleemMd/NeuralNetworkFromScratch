{
 "cells": [
  {
   "cell_type": "code",
   "execution_count": 1,
   "metadata": {},
   "outputs": [],
   "source": [
    "from numpy import exp, array, random, dot"
   ]
  },
  {
   "cell_type": "code",
   "execution_count": 26,
   "metadata": {},
   "outputs": [],
   "source": [
    "class NeuralNet():\n",
    "    def __init__(self):\n",
    "        random.seed(86)\n",
    "        self.weight=random.random((3,1))\n",
    "    def sigmoid(self,x):\n",
    "        return 1/(1+exp(-x))\n",
    "    def derivative(self,x):\n",
    "        return (1-x)*x;\n",
    "    def predict(self,x):\n",
    "        return self.sigmoid(dot(x,self.weight))\n",
    "    def train(self,x,y,n=1000):\n",
    "        learning_rate=0.0001\n",
    "        for _ in range(n):\n",
    "            output=self.predict(x)\n",
    "            error=y-output\n",
    "            adjustment=dot(x.T,error*self.derivative(output))\n",
    "            self.weight-=learning_rate*adjustment\n",
    "            "
   ]
  },
  {
   "cell_type": "code",
   "execution_count": 27,
   "metadata": {},
   "outputs": [
    {
     "data": {
      "text/plain": [
       "array([0.54591558])"
      ]
     },
     "execution_count": 27,
     "metadata": {},
     "output_type": "execute_result"
    }
   ],
   "source": [
    "training_set_inputs = array([[0, 0, 1], [1, 1, 1], [1, 0, 1], [0, 1, 1]])\n",
    "training_set_outputs = array([[0, 1, 1, 0]]).T\n",
    "model=NeuralNet();\n",
    "model.train(training_set_inputs,training_set_outputs)\n",
    "model.predict(array([1, 0, 0]))"
   ]
  },
  {
   "cell_type": "code",
   "execution_count": null,
   "metadata": {},
   "outputs": [],
   "source": []
  }
 ],
 "metadata": {
  "kernelspec": {
   "display_name": "Python 3",
   "language": "python",
   "name": "python3"
  },
  "language_info": {
   "codemirror_mode": {
    "name": "ipython",
    "version": 3
   },
   "file_extension": ".py",
   "mimetype": "text/x-python",
   "name": "python",
   "nbconvert_exporter": "python",
   "pygments_lexer": "ipython3",
   "version": "3.7.3"
  }
 },
 "nbformat": 4,
 "nbformat_minor": 2
}
